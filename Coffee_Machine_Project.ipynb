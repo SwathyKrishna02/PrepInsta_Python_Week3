{
  "nbformat": 4,
  "nbformat_minor": 0,
  "metadata": {
    "colab": {
      "provenance": []
    },
    "kernelspec": {
      "name": "python3",
      "display_name": "Python 3"
    },
    "language_info": {
      "name": "python"
    }
  },
  "cells": [
    {
      "cell_type": "markdown",
      "source": [
        "# Coffee Machine Program Requirements\n",
        "\n",
        "Doc: https://drive.google.com/file/d/1xVbxZItVSND57UjpkRyrILQaFkLbLvmq/view?usp=drive_link"
      ],
      "metadata": {
        "id": "BPx2i4CrA93i"
      }
    },
    {
      "cell_type": "code",
      "execution_count": 24,
      "metadata": {
        "id": "LOk7qh6AA03j",
        "outputId": "856d050a-124c-403a-a320-7c2e0a108762",
        "colab": {
          "base_uri": "https://localhost:8080/"
        }
      },
      "outputs": [
        {
          "name": "stdout",
          "output_type": "stream",
          "text": [
            "What would you like? (espresso/latte/cappuccino/off/report): cappuccino\n",
            "Please insert coins.\n",
            "How many quarters? 8\n",
            "How many dimes? 0\n",
            "How many nickels? 0\n",
            "How many pennies? 0\n",
            "Sorry, that's not enough money. Money refunded.\n",
            "Transaction cancelled.\n",
            "What would you like? (espresso/latte/cappuccino/off/report): latte\n",
            "Please insert coins.\n",
            "How many quarters? 2\n",
            "How many dimes? 0\n",
            "How many nickels? 1\n",
            "How many pennies? 3\n",
            "Sorry, that's not enough money. Money refunded.\n",
            "Transaction cancelled.\n",
            "What would you like? (espresso/latte/cappuccino/off/report): report\n",
            "Current Resources:\n",
            "Water: 300ml\n",
            "Milk: 200ml\n",
            "Coffee: 100g\n",
            "Money: $0.00\n",
            "What would you like? (espresso/latte/cappuccino/off/report): off\n"
          ]
        }
      ],
      "source": [
        "MENU = {\n",
        "    \"espresso\": {\"ingredients\": {\"water\": 50, \"coffee\": 18}, \"cost\": 1.5},\n",
        "    \"latte\": {\"ingredients\": {\"water\": 200, \"milk\": 150, \"coffee\": 24}, \"cost\": 2.5},\n",
        "    \"cappuccino\": {\"ingredients\": {\"water\": 250, \"milk\": 100, \"coffee\": 24}, \"cost\": 3.0}\n",
        "}\n",
        "\n",
        "resources = {\"water\": 300, \"milk\": 200, \"coffee\": 100, \"money\": 0}\n",
        "\n",
        "def check_report():\n",
        "    print(\"Current Resources:\")\n",
        "    print(f\"Water: {resources['water']}ml\")\n",
        "    print(f\"Milk: {resources['milk']}ml\")\n",
        "    print(f\"Coffee: {resources['coffee']}g\")\n",
        "    print(f\"Money: ${resources['money']:.2f}\")\n",
        "\n",
        "def check_resources(drink):\n",
        "    for ingredient, amount in MENU[drink]['ingredients'].items():\n",
        "        if resources[ingredient] < amount:\n",
        "            print(f\"Sorry, there is not enough {ingredient}.\")\n",
        "            return False\n",
        "    return True\n",
        "\n",
        "def process_coins(cost):\n",
        "    print(\"Please insert coins.\")\n",
        "    quarters = int(input(\"How many quarters? \"))\n",
        "    dimes = int(input(\"How many dimes? \"))\n",
        "    nickels = int(input(\"How many nickels? \"))\n",
        "    pennies = int(input(\"How many pennies? \"))\n",
        "    total = quarters * 0.25 + dimes * 0.10 + nickels * 0.05 + pennies * 0.01\n",
        "    if total < cost:\n",
        "        print(\"Sorry, that's not enough money. Money refunded.\")\n",
        "        return 0\n",
        "    elif total > cost:\n",
        "        change = round(total - cost, 2)\n",
        "        print(f\"Here is ${change} in change.\")\n",
        "        return cost\n",
        "    else:\n",
        "        return total\n",
        "\n",
        "def make_coffee(drink, payment):\n",
        "    if payment > 0:\n",
        "        for ingredient, amount in MENU[drink]['ingredients'].items():\n",
        "            resources[ingredient] -= amount\n",
        "        resources['money'] += payment\n",
        "        print(f\"Here is your {drink}. Enjoy!\")\n",
        "    else:\n",
        "        print(\"Transaction cancelled.\")\n",
        "\n",
        "def coffee_machine():\n",
        "    while True:\n",
        "        choice = input(\"What would you like? (espresso/latte/cappuccino/off/report): \").lower()\n",
        "\n",
        "        if choice == \"off\":\n",
        "            break\n",
        "        elif choice == \"report\":\n",
        "            check_report()\n",
        "        elif choice in MENU:\n",
        "            if check_resources(choice):\n",
        "                cost = MENU[choice]['cost']\n",
        "                payment = process_coins(cost)\n",
        "                make_coffee(choice, payment)\n",
        "            else:\n",
        "                continue\n",
        "        else:\n",
        "            print(\"Invalid choice. Please try again.\")\n",
        "\n",
        "coffee_machine()\n"
      ]
    },
    {
      "cell_type": "code",
      "source": [
        "114"
      ],
      "metadata": {
        "id": "trArd3PClNEV"
      },
      "execution_count": null,
      "outputs": []
    }
  ]
}